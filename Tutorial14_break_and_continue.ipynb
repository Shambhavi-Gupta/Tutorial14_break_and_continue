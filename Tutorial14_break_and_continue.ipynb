{
  "nbformat": 4,
  "nbformat_minor": 0,
  "metadata": {
    "colab": {
      "name": "Tutorial14_break_and_continue.ipynb",
      "provenance": [],
      "authorship_tag": "ABX9TyOmYG4k3+6um/kdxLnNOkT6",
      "include_colab_link": true
    },
    "kernelspec": {
      "name": "python3",
      "display_name": "Python 3"
    }
  },
  "cells": [
    {
      "cell_type": "markdown",
      "metadata": {
        "id": "view-in-github",
        "colab_type": "text"
      },
      "source": [
        "<a href=\"https://colab.research.google.com/github/Shambhavi-Gupta/Tutorial14_break_and_continue/blob/main/Tutorial14_break_and_continue.ipynb\" target=\"_parent\"><img src=\"https://colab.research.google.com/assets/colab-badge.svg\" alt=\"Open In Colab\"/></a>"
      ]
    },
    {
      "cell_type": "code",
      "metadata": {
        "id": "N5bGM6-lxTpI"
      },
      "source": [
        "# i = 0\r\n",
        "# while(True):\r\n",
        "#     print(i+1 , end=\" \")\r\n",
        "#     if(i==44):\r\n",
        "#         break #stop the loop\r\n",
        "#     i = i+1\r\n",
        "\r\n",
        "\r\n",
        "\r\n",
        "i = 0\r\n",
        "\r\n",
        "while(True):\r\n",
        "     if i+1<5:\r\n",
        "         i = i+1\r\n",
        "         continue\r\n",
        "\r\n",
        "     print(i+1 , end=\" \")\r\n",
        "     if(i==44):\r\n",
        "         break       #stop the loop\r\n",
        "     i = i+1\r\n"
      ],
      "execution_count": null,
      "outputs": []
    }
  ]
}